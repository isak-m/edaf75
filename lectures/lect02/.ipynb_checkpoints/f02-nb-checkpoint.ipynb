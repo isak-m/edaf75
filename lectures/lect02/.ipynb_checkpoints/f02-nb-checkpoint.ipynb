{
 "cells": [
  {
   "cell_type": "markdown",
   "metadata": {},
   "source": [
    "<!-- -*- mode: markdown; coding: utf-8; fill-column: 60; ispell-dictionary: \"english\" -*- -->\n",
    "\n",
    "<meta charset=\"utf-8\"/>\n",
    "<meta name=\"viewport\" content=\"width=device-width,initial-scale=1\"/>\n",
    "<link rel=\"stylesheet\" href=\"../style.css\">\n",
    "\n",
    "# More SQL (lecture 2)\n",
    "\n",
    "Today we'll continue where we left off last time, and then\n",
    "learn how to combine several tables in one `SELECT`\n",
    "statement.\n",
    "\n",
    "As usual we have to tell Jupyter to allow SQL:"
   ]
  },
  {
   "cell_type": "code",
   "execution_count": null,
   "metadata": {},
   "outputs": [],
   "source": [
    "%load_ext sql"
   ]
  },
  {
   "cell_type": "markdown",
   "metadata": {},
   "source": [
    "And then we import the database for today's lecture:"
   ]
  },
  {
   "cell_type": "code",
   "execution_count": null,
   "metadata": {},
   "outputs": [],
   "source": [
    "%sql sqlite:///lect02.sqlite"
   ]
  },
  {
   "cell_type": "markdown",
   "metadata": {},
   "source": [
    "## Short review of the first lecture\n",
    "\n",
    " +  `SELECT`-`FROM`-`WHERE`: \n",
    " \n",
    " +  Set operations: `UNION`, `INTERSECT`, `EXCEPT`\n",
    " \n",
    " +  Simple functions: applies to each row of the result,\n",
    "    like (you can find their documentation\n",
    "    [here](https://www.sqlite.org/lang_corefunc.html)):\n",
    "     +  `substr(s, x, y)`\n",
    "     +  `instr`/`glob`\n",
    "     +  `ltrim`/`rtrim`/`trim`\n",
    "     +  `ifnull`/`coalesce`\n",
    "     +  `printf`\n",
    "     +  `abs`/`round`\n",
    "     +  `max(x,y,...)`/`min(x,y,...)` -- observe that this\n",
    "        is not the same as the aggregate functions (see\n",
    "        below)\n",
    "     +  `random`/`randomblob`\n",
    "     +  `hex`\n",
    "     +  `lower`/`upper`\n",
    "\n",
    " +  Aggregate functions (documented\n",
    "    [here](https://www.sqlite.org/lang_aggfunc.html)):\n",
    "     +  `avg`\n",
    "     +  `count`\n",
    "     +  `group_concat`\n",
    "     +  `max`/`min`\n",
    "     +  `sum`/`total`\n",
    " \n",
    " +  `GROUP BY` -- splits the rows into groups, and applies\n",
    "    aggregate functions on each group (instead of on the\n",
    "    whole table)\n",
    "    \n",
    " +  `GROUP BY` ... `HAVING` -- like `WHERE` for groups\n",
    " \n",
    " +  Subqueries -- we can use queries within other queries,\n",
    "    typically in a `WHERE ... IN`-statement\n",
    "\n",
    "\n",
    "## Subqueries, continued...\n",
    "\n",
    "At the end of the previous lecture, we looked at the\n",
    "(admittedly contrieved) question:\n",
    "\n",
    "**Q:** _Who has shared the chemistry prize with exactly one\n",
    "other laureate in years when the summer olympics were held\n",
    "in Europe?_"
   ]
  },
  {
   "cell_type": "code",
   "execution_count": null,
   "metadata": {},
   "outputs": [],
   "source": [
    "%%sql\n"
   ]
  },
  {
   "cell_type": "markdown",
   "metadata": {},
   "source": [
    "We'll save the following problem for the QA-session:\n",
    "\n",
    "**Q:** _Print the names of all the physics and chemistry\n",
    "laureates in years when both categories had laureates with\n",
    "names beginning with 'A'?_"
   ]
  },
  {
   "cell_type": "code",
   "execution_count": null,
   "metadata": {},
   "outputs": [],
   "source": [
    "%%sql\n"
   ]
  },
  {
   "cell_type": "markdown",
   "metadata": {},
   "source": [
    "Another form of subquery is:"
   ]
  },
  {
   "cell_type": "markdown",
   "metadata": {},
   "source": [
    "~~~sql\n",
    "SELECT ...,\n",
    "       (SELECT ...\n",
    "        FROM ...\n",
    "        WHERE ...)\n",
    "FROM   ...\n",
    "~~~\n"
   ]
  },
  {
   "cell_type": "markdown",
   "metadata": {},
   "source": [
    "This works if the subquery produces one result, such as when\n",
    "we use an aggregate function. As an example, solve the\n",
    "following problem:\n",
    "\n",
    "**Q:** _Output the name of all laureates, and the number of\n",
    "awards they have -- order first by number of awards, then by\n",
    "name, and show only the first 20._"
   ]
  },
  {
   "cell_type": "code",
   "execution_count": null,
   "metadata": {},
   "outputs": [],
   "source": [
    "%%sql\n"
   ]
  },
  {
   "cell_type": "markdown",
   "metadata": {},
   "source": [
    "This is called a _correlated subquery_ (since we refer to\n",
    "the enclosing query inside it). We use an alias to\n",
    "distinguish between the nobel table in the outer query and\n",
    "the nobel table in the subquery (it's the same table, but we\n",
    "'iterate' through it separately).\n",
    "\n",
    "\n",
    "\n",
    "## Redundancy, and the case for splitting up tables\n",
    "\n",
    "The term\n",
    "[redundancy](https://en.wikipedia.org/wiki/Redundancy_(linguistics))\n",
    "can be defined in many contexts, in linguistics (and in\n",
    "general) it refers to information which is expressed more\n",
    "than once. It is sometimes desirable (the human body has an\n",
    "enormous amount of redundancy, and that's what enable us to\n",
    "self-heal), but often it is a source of confusion and\n",
    "errors.\n",
    "\n",
    "Our table of Olympic Games looks like this:"
   ]
  },
  {
   "cell_type": "code",
   "execution_count": null,
   "metadata": {},
   "outputs": [],
   "source": [
    "%%sql\n",
    "SELECT *\n",
    "FROM   olympics"
   ]
  },
  {
   "cell_type": "markdown",
   "metadata": {},
   "source": [
    "**Exercise:** _Can you see any potential sources of\n",
    "redundancy?_\n",
    "\n",
    "<p>&nbsp;</p>\n",
    "<p>&nbsp;</p>\n",
    "<p>&nbsp;</p>\n",
    "<p>&nbsp;</p>\n",
    "<p>&nbsp;</p>\n",
    "<p>&nbsp;</p>\n",
    "\n",
    "Two things come to mind:\n",
    "\n",
    " * A city seldom changes country (although it happens...),\n",
    "   so repeating the same pairs of (city, country) in several\n",
    "   places may seem redundant.\n",
    "\n",
    " * A country never moves to another continent, so repeating\n",
    "   the same pairs of (country, continent) is always\n",
    "   redundant.\n",
    " \n",
    "In the first case, there might be a reason to save both the\n",
    "city name and the country name, not only because counties\n",
    "historically have changed (in 1980 Moscow was in the Soviet\n",
    "Union, and in 1984 Sarajevo was in Yugoslavia), but also\n",
    "because city names aren't globally unique -- there is a\n",
    "Paris in Texas, and a Moscow in Kansas. So we may need the\n",
    "country to identify the city uniquely. In this case we say\n",
    "that the pair (city, country) is a _key_ (we'll return to\n",
    "this many times during the course).\n",
    "\n",
    "But saving the same pair of country and continent in several\n",
    "places is just redundant, and it is not only wasteful\n",
    "memory-wise, but could also lead to some problems when we\n",
    "modify our table (we'll return to this when we talk about\n",
    "_normalization_).\n",
    "\n",
    "We say that the continent is _functionally dependent_ on the\n",
    "country (or that there is a _functional dependency_ from\n",
    "countries to continents), and we can avoid the redundancy it\n",
    "gives rise to by creating a new table, which tells on which\n",
    "continent each country is. We'll return to the details of\n",
    "the SQL statements below later in the course, you're not\n",
    "supposed to understand it right now, but if we evaluate the\n",
    "cell below we'll get two tables, `better_olympics` and\n",
    "`continents` who could replace our old `olympics`:"
   ]
  },
  {
   "cell_type": "code",
   "execution_count": null,
   "metadata": {},
   "outputs": [],
   "source": [
    "%%sql\n",
    "DROP TABLE IF EXISTS continents;\n",
    "CREATE TABLE continents (\n",
    "  country   TEXT,\n",
    "  continent TEXT NOT NULL,\n",
    "  PRIMARY KEY (country)\n",
    ");\n",
    "\n",
    "INSERT OR IGNORE\n",
    "INTO   continents(country, continent)\n",
    "SELECT country, continent\n",
    "FROM   olympics;\n",
    "\n",
    "DROP TABLE IF EXISTS better_olympics;\n",
    "CREATE TABLE  better_olympics (\n",
    "  year            INT,\n",
    "  city            TEXT,\n",
    "  country         TEXT,\n",
    "  season          TEXT,\n",
    "  ordinal_number  TEXT,\n",
    "  PRIMARY KEY (year, season)\n",
    ");\n",
    "\n",
    "INSERT\n",
    "INTO   better_olympics(year, city, country, season, ordinal_number)\n",
    "SELECT year, city, country, season, ordinal_number\n",
    "FROM   olympics;"
   ]
  },
  {
   "cell_type": "markdown",
   "metadata": {},
   "source": [
    "Now we don't have to enter the continent the next time\n",
    "Athens, Paris or London is awarded the games.\n",
    "\n",
    "Our two tables look like this:"
   ]
  },
  {
   "cell_type": "code",
   "execution_count": null,
   "metadata": {},
   "outputs": [],
   "source": [
    "%%sql\n",
    "SELECT *\n",
    "FROM   better_olympics;"
   ]
  },
  {
   "cell_type": "code",
   "execution_count": null,
   "metadata": {},
   "outputs": [],
   "source": [
    "%%sql\n",
    "SELECT *\n",
    "FROM   continents;"
   ]
  },
  {
   "cell_type": "markdown",
   "metadata": {},
   "source": [
    "We've avoided some redundancy, but now we need a way to\n",
    "combine the information in our two tables, and that's what\n",
    "_joins_ are for...\n",
    "\n",
    "\n",
    "## Joining tables together\n",
    "\n",
    "We want a database for handling college applications, a\n",
    "number of students applies for various majors at different\n",
    "colleges. We want to keep track of:\n",
    "\n",
    " + student id (similar to stil-id)\n",
    " + student name\n",
    " + student's grade average (gpa)\n",
    " + the size of the student's highschool\n",
    " + the names of the colleges\n",
    " + the state for each college\n",
    " + the enrollment for each college\n",
    " + the major applied for\n",
    " + the decision ('Y' for accepted, 'N' otherwise)\n",
    "\n",
    "One way of doing this would be to use one big table:"
   ]
  },
  {
   "cell_type": "code",
   "execution_count": null,
   "metadata": {},
   "outputs": [],
   "source": [
    "%%sql\n",
    "SELECT *\n",
    "FROM   big_college"
   ]
  },
  {
   "cell_type": "markdown",
   "metadata": {},
   "source": [
    "But, just as with our olympics database above, this would\n",
    "give us a lot of redundance, so we'd like to split this big\n",
    "table into several related tables.\n",
    "\n",
    "In lectures 7 and 8 we'll discuss the theory and practice of\n",
    "splitting up tables -- for now, suggest tables which you\n",
    "think would make working with our data easier.\n",
    "\n",
    "<p>&nbsp;</p>\n",
    "<p>&nbsp;</p>\n",
    "<p>&nbsp;</p>\n",
    "<p>&nbsp;</p>\n",
    "<p>&nbsp;</p>\n",
    "<p>&nbsp;</p>\n",
    "\n",
    "We have one table for the students:"
   ]
  },
  {
   "cell_type": "code",
   "execution_count": null,
   "metadata": {},
   "outputs": [],
   "source": [
    "%%sql\n",
    "SELECT *\n",
    "FROM   students\n",
    "LIMIT 4"
   ]
  },
  {
   "cell_type": "markdown",
   "metadata": {},
   "source": [
    "One for the colleges:"
   ]
  },
  {
   "cell_type": "code",
   "execution_count": null,
   "metadata": {},
   "outputs": [],
   "source": [
    "%%sql\n",
    "SELECT *\n",
    "FROM   colleges\n",
    "LIMIT 4"
   ]
  },
  {
   "cell_type": "markdown",
   "metadata": {},
   "source": [
    "And one for all collage applications made by the students:"
   ]
  },
  {
   "cell_type": "code",
   "execution_count": null,
   "metadata": {},
   "outputs": [],
   "source": [
    "%%sql\n",
    "SELECT *\n",
    "FROM   applications\n",
    "LIMIT 4"
   ]
  },
  {
   "cell_type": "markdown",
   "metadata": {},
   "source": [
    "The `applications` table uses `s_id` instead of `s_name`,\n",
    "since we could have several students with the same name (we\n",
    "actually have two 'Amy') -- `s_id` is guaranteed to be\n",
    "unique (we'll talk _much_ more about uniqueness next week).\n",
    "\n",
    "Now assume we want to display all applications, _with the\n",
    "names of the students_ (not just student id). We then need a\n",
    "way to combine information in the `applications` table with\n",
    "information in the `students` table, and we'll do it with a\n",
    "_join_.\n",
    "\n",
    "\n",
    "The SQL standard specifies five different kinds of joins:\n",
    "\n",
    " + _cross join_\n",
    " + _inner join_\n",
    " + _left outer join_\n",
    " + _right outer join_\n",
    " + _full outer join_\n",
    "\n",
    "The most primitive of these is the cross join -- we can\n",
    "write it as:"
   ]
  },
  {
   "cell_type": "markdown",
   "metadata": {},
   "source": [
    "~~~\n",
    "SELECT      *\n",
    "FROM        a \n",
    "CROSS JOIN  b\n",
    "~~~\n"
   ]
  },
  {
   "cell_type": "markdown",
   "metadata": {},
   "source": [
    "Doing this, we get all combinations of rows from each of\n",
    "table `a` and `b` -- the rows will contain all attributes\n",
    "from both tables (unless we make a projection).\n",
    "\n",
    "If we do it with our `applications` and `students` tables we\n",
    "get:"
   ]
  },
  {
   "cell_type": "code",
   "execution_count": null,
   "metadata": {},
   "outputs": [],
   "source": [
    "%%sql\n",
    "SELECT      *\n",
    "FROM        applications \n",
    "CROSS JOIN  students"
   ]
  },
  {
   "cell_type": "markdown",
   "metadata": {},
   "source": [
    "The number of rows in this table is the product of the\n",
    "number of rows in each table, and most of the rows in the\n",
    "combined table are totally uninteresting, since the `s_id`'s\n",
    "doesn't have anything to do with each other (e.g., in one\n",
    "line the fact that a student with `s_id` 123 has applied to\n",
    "CS at Stanford is combined with the fact that there is a\n",
    "student Bob with `s_id` 234 who has a `gpa` of 3.6).\n",
    "\n",
    "The only rows of interest to us are those where the student\n",
    "id from the `applications` table is the same as the student\n",
    "id from the `students` table, and we can express that as:"
   ]
  },
  {
   "cell_type": "code",
   "execution_count": null,
   "metadata": {},
   "outputs": [],
   "source": [
    "%%sql\n",
    "SELECT      *\n",
    "FROM        applications \n",
    "CROSS JOIN  students\n",
    "WHERE       applications.s_id = students.s_id"
   ]
  },
  {
   "cell_type": "markdown",
   "metadata": {},
   "source": [
    "or, using aliases, so we don't have to write long table\n",
    "names:"
   ]
  },
  {
   "cell_type": "code",
   "execution_count": null,
   "metadata": {},
   "outputs": [],
   "source": [
    "%%sql\n",
    "SELECT      *\n",
    "FROM        applications AS a \n",
    "CROSS JOIN  students AS s\n",
    "WHERE       a.s_id = s.s_id"
   ]
  },
  {
   "cell_type": "markdown",
   "metadata": {},
   "source": [
    "We can clean up the output using a projection:"
   ]
  },
  {
   "cell_type": "code",
   "execution_count": null,
   "metadata": {},
   "outputs": [],
   "source": [
    "%%sql\n",
    "SELECT      s.s_name, a.c_name, a.major\n",
    "FROM        applications AS a \n",
    "CROSS JOIN  students AS s\n",
    "WHERE       a.s_id = s.s_id"
   ]
  },
  {
   "cell_type": "markdown",
   "metadata": {},
   "source": [
    "or even"
   ]
  },
  {
   "cell_type": "code",
   "execution_count": null,
   "metadata": {},
   "outputs": [],
   "source": [
    "%%sql\n",
    "SELECT      s_name AS name, c_name AS college, major\n",
    "FROM        applications AS a\n",
    "CROSS JOIN  students AS s\n",
    "WHERE       a.s_id = s.s_id"
   ]
  },
  {
   "cell_type": "markdown",
   "metadata": {},
   "source": [
    "(we only need to prefix column names when there would\n",
    "otherwise be an ambiguity).\n",
    "\n",
    "There is a shortcut for cross joins, we can just put a comma\n",
    "between the two tables we want to join:"
   ]
  },
  {
   "cell_type": "code",
   "execution_count": null,
   "metadata": {},
   "outputs": [],
   "source": [
    "%%sql\n",
    "SELECT s_name AS name, c_name AS college, major\n",
    "FROM   applications AS a, students AS s\n",
    "WHERE  a.s_id = s.s_id"
   ]
  },
  {
   "cell_type": "markdown",
   "metadata": {},
   "source": [
    "This works, but there are much more elegant ways to write\n",
    "this query.\n",
    "\n",
    "An _inner join_ combine two tables into a new table (it's\n",
    "not actually saved as a table) -- it does this by creating\n",
    "combined rows only when rows from the two tables 'match'\n",
    "each other. In this case it's the `s_id` columns which\n",
    "should match, so we write:"
   ]
  },
  {
   "cell_type": "code",
   "execution_count": null,
   "metadata": {},
   "outputs": [],
   "source": [
    "%%sql\n",
    "SELECT      s_name AS name, c_name AS college, major\n",
    "FROM        applications AS a \n",
    "INNER JOIN  students AS s \n",
    "ON          a.s_id = s.s_id"
   ]
  },
  {
   "cell_type": "markdown",
   "metadata": {},
   "source": [
    "Logically it can be seen as the equivalent of a cross join\n",
    "and then a selection, but the database engine normally use\n",
    "algorithms which are much faster and requires much less\n",
    "memory when we define an inner join. Once you get used to\n",
    "them, inner joins will feel much better to use than cross\n",
    "joins (although, in theory, the database should try to\n",
    "optimize all queries, and _might_ find an efficient way to\n",
    "execute even cross joins).\n",
    "\n",
    "Inner joins are the default joins, so we can omit the word\n",
    "`INNER`, and just write `JOIN`:"
   ]
  },
  {
   "cell_type": "code",
   "execution_count": null,
   "metadata": {},
   "outputs": [],
   "source": [
    "%%sql\n",
    "SELECT  s_name AS name, c_name AS college, major\n",
    "FROM    applications AS a\n",
    "JOIN    students AS s\n",
    "ON      a.s_id = s.s_id"
   ]
  },
  {
   "cell_type": "markdown",
   "metadata": {},
   "source": [
    "The condition on which we join tables is often called the\n",
    "_join predicate_, and a join where the join predicate is an\n",
    "equality test, such as here, is sometimes called an\n",
    "_equi-join_. There is a special form of join when the\n",
    "columns we're comparing in an equi-join have the same name:"
   ]
  },
  {
   "cell_type": "code",
   "execution_count": null,
   "metadata": {},
   "outputs": [],
   "source": [
    "%%sql\n",
    "SELECT  s_name AS name, c_name AS college, major\n",
    "FROM    applications\n",
    "JOIN    students\n",
    "USING   (s_id)"
   ]
  },
  {
   "cell_type": "markdown",
   "metadata": {},
   "source": [
    "One benefit from using `USING` is that the columns we join\n",
    "over will not be duplicated, we get only one of them in the\n",
    "output. \n",
    "\n",
    "I'd say this is the preferred way of writing this query.\n",
    "\n",
    "There is an even simpler way to write it, using what's\n",
    "called a _natural join_, but it's error-prone, and you're\n",
    "recommended not to use it. It's written as"
   ]
  },
  {
   "cell_type": "code",
   "execution_count": null,
   "metadata": {},
   "outputs": [],
   "source": [
    "%%sql\n",
    "SELECT        s_name AS name, c_name AS college, major\n",
    "FROM          applications\n",
    "NATURAL JOIN  students"
   ]
  },
  {
   "cell_type": "markdown",
   "metadata": {},
   "source": [
    "and it joins the tables using an equi-join for all columns\n",
    "with coinciding names -- _this could create big problems if\n",
    "there are attributes in the tables which just happen to\n",
    "coincide without us realizing it!_ If we use the `JOIN` ...\n",
    "`USING` instead, we explicitly declare on which attributes\n",
    "to join, so we guard ourselves against accidental column\n",
    "name collisions.\n",
    "\n",
    "Observe that we can use selections just as before when we\n",
    "join tables. \n",
    "\n",
    "**Exercise:** _Write a SQL query which shows all applications as\n",
    "above, but only for students applying for CS at Stanford._"
   ]
  },
  {
   "cell_type": "code",
   "execution_count": null,
   "metadata": {},
   "outputs": [],
   "source": [
    "%%sql\n"
   ]
  },
  {
   "cell_type": "markdown",
   "metadata": {},
   "source": [
    "**Exercise:** _Write a SQL query which shows all applications\n",
    "as above, but also shows what state the college is in._"
   ]
  },
  {
   "cell_type": "code",
   "execution_count": null,
   "metadata": {},
   "outputs": [],
   "source": [
    "%%sql\n"
   ]
  },
  {
   "cell_type": "markdown",
   "metadata": {},
   "source": [
    "We can join a table with itself, write a query which finds\n",
    "all pairs with the same Grade Point Average (GPA):\n",
    "\n",
    "We can do it either with a cross join:"
   ]
  },
  {
   "cell_type": "code",
   "execution_count": null,
   "metadata": {},
   "outputs": [],
   "source": [
    "%%sql\n",
    "SELECT s1.s_id, s1.s_name, s1.gpa, s2.s_id, s2.s_name, s2.gpa\n",
    "FROM   students AS s1, students AS s2\n",
    "WHERE  s1.gpa = s2.gpa AND\n",
    "       s1.s_id < s2.s_id"
   ]
  },
  {
   "cell_type": "markdown",
   "metadata": {},
   "source": [
    "or with an inner join:"
   ]
  },
  {
   "cell_type": "code",
   "execution_count": null,
   "metadata": {},
   "outputs": [],
   "source": [
    "%%sql\n",
    "SELECT s1.s_id, s1.s_name, s2.s_id, s2.s_name, gpa\n",
    "FROM   students AS s1 \n",
    "JOIN   students AS s2 \n",
    "USING  (gpa)\n",
    "WHERE  s1.s_id < s2.s_id"
   ]
  },
  {
   "cell_type": "markdown",
   "metadata": {},
   "source": [
    "Joining a table with itself is called a _self join_.\n",
    "       \n",
    "**Exercise:** Show the student names, college names, and\n",
    "majors for all applications to Stanford:"
   ]
  },
  {
   "cell_type": "code",
   "execution_count": null,
   "metadata": {},
   "outputs": [],
   "source": [
    "%%sql\n"
   ]
  },
  {
   "cell_type": "markdown",
   "metadata": {},
   "source": [
    "**Exercise:** Show the average `size_hs` for applications to\n",
    "the different colleges, order by descending size:"
   ]
  },
  {
   "cell_type": "code",
   "execution_count": null,
   "metadata": {},
   "outputs": [],
   "source": [
    "%%sql\n"
   ]
  },
  {
   "cell_type": "markdown",
   "metadata": {},
   "source": [
    "We can apply joins in several steps, each time combining\n",
    "what we've previously joined with another table (the result\n",
    "of which is a new table, which can be joined over and over\n",
    "again...).\n",
    "\n",
    "\n",
    "**Exercise:** _Show the names of all students who have\n",
    "applied for a college in California -- also show the college\n",
    "and major._"
   ]
  },
  {
   "cell_type": "code",
   "execution_count": null,
   "metadata": {},
   "outputs": [],
   "source": [
    "%%sql\n"
   ]
  },
  {
   "cell_type": "markdown",
   "metadata": {},
   "source": [
    "In lab 1 you'll get plenty of exercise in joining.\n",
    "\n",
    "\n",
    "## Outer joins\n",
    "\n",
    "An inner join combines rows in different tables _when there\n",
    "is a match in the other table_, rows with no corresponding\n",
    "row in the other table will not turn up in the joined table.\n",
    "\n",
    "With an _outer join_ we can make sure that every row in one\n",
    "or both of the tables turn up in the joined table -- in case\n",
    "there is no match, it will be paired with a row containing\n",
    "unly `NULL` values (`NULL` is written as `None` in our\n",
    "notebooks).\n",
    "\n",
    "As as example, we've seen how to join students and their\n",
    "applications:\n",
    "\n",
    "<!---\n",
    "SELECT s_name, s_id, c_name, major\n",
    "FROM   students\n",
    "JOIN   applications\n",
    "USING  (s_id)\n",
    "-->"
   ]
  },
  {
   "cell_type": "code",
   "execution_count": null,
   "metadata": {},
   "outputs": [],
   "source": [
    "%%sql\n"
   ]
  },
  {
   "cell_type": "markdown",
   "metadata": {},
   "source": [
    "Now, assume we also want to see those students who haven't\n",
    "applied, we can do that using a _left outer join_:\n",
    "\n",
    "<!---\n",
    "SELECT          s_name, s_id, c_name, major\n",
    "FROM            students\n",
    "LEFT OUTER JOIN applications\n",
    "USING           (s_id)\n",
    "-->"
   ]
  },
  {
   "cell_type": "code",
   "execution_count": null,
   "metadata": {},
   "outputs": [],
   "source": [
    "%%sql\n"
   ]
  },
  {
   "cell_type": "markdown",
   "metadata": {},
   "source": [
    "We still get the rows we got before, but now we also get\n",
    "rows with `NULL`'s in the attributes from the right\n",
    "relation, if there is no row in the right table which\n",
    "corresponds to a row in the left table (i.e., the `s_id`\n",
    "found in the `students` table has no match in the\n",
    "`applications` table -- the tuples on the left are sometimes\n",
    "called _dangling tuples_).\n",
    "\n",
    "By the way, we can omit the `OUTER` keyword:\n",
    "\n",
    "<!---\n",
    "SELECT    s_name, s_id, c_name, major\n",
    "FROM      students\n",
    "LEFT JOIN applications\n",
    "USING     (s_id)\n",
    "-->"
   ]
  },
  {
   "cell_type": "code",
   "execution_count": null,
   "metadata": {},
   "outputs": [],
   "source": [
    "%%sql\n"
   ]
  },
  {
   "cell_type": "markdown",
   "metadata": {},
   "source": [
    "There is a 'natural' version of outer joins ...\n",
    "\n",
    "<!---\n",
    "SELECT            s_name, s_id, c_name, major\n",
    "FROM              students\n",
    "NATURAL LEFT JOIN applications\n",
    "-->"
   ]
  },
  {
   "cell_type": "code",
   "execution_count": null,
   "metadata": {},
   "outputs": [],
   "source": [
    "%%sql\n"
   ]
  },
  {
   "cell_type": "markdown",
   "metadata": {},
   "source": [
    "... but for the same reasons as for inner joins, it's\n",
    "_much_, _much_ better to explicitly declare which attribute\n",
    "we're joining (using `USING`).\n",
    "\n",
    "There is a way to get the same result without inner or outer\n",
    "joins, but it requires more code:"
   ]
  },
  {
   "cell_type": "code",
   "execution_count": null,
   "metadata": {},
   "outputs": [],
   "source": [
    "%%sql\n",
    "SELECT      s_name, s.s_id, c_name, major\n",
    "FROM        students s\n",
    "CROSS JOIN  applications a\n",
    "WHERE       s.s_id = a.s_id\n",
    "UNION\n",
    "SELECT      s_name, s_id, NULL, NULL\n",
    "FROM        students\n",
    "WHERE       s_id NOT IN (SELECT s_id\n",
    "                         FROM   applications)"
   ]
  },
  {
   "cell_type": "markdown",
   "metadata": {},
   "source": [
    "Seing this might help you understand what left outer join\n",
    "actually returns.\n",
    "\n",
    "Now, the opposite problem, we want to see applications with\n",
    "no matching students -- of course we could just swap\n",
    "`students` and `applications` in the query above, but we\n",
    "could also use a _right outer join_:"
   ]
  },
  {
   "cell_type": "code",
   "execution_count": null,
   "metadata": {},
   "outputs": [],
   "source": [
    "%%sql\n",
    "SELECT     s_name, s_id, c_name, major\n",
    "FROM       students\n",
    "RIGHT JOIN applications USING (s_id)"
   ]
  },
  {
   "cell_type": "markdown",
   "metadata": {},
   "source": [
    "Right outer joins are not supported in SQLite (yet), though.\n",
    "\n",
    "There is also a _full outer join_, which combines the left-\n",
    "and the right outer joins:"
   ]
  },
  {
   "cell_type": "code",
   "execution_count": null,
   "metadata": {},
   "outputs": [],
   "source": [
    "%%sql\n",
    "SELECT    s_name, s_id, c_name, major\n",
    "FROM      students\n",
    "FULL JOIN applications USING (s_id)"
   ]
  },
  {
   "cell_type": "markdown",
   "metadata": {},
   "source": [
    "Of the outer joins, SQLite only supports left outer, the\n",
    "other ones are left out :-).\n",
    "\n",
    "**Exercise:** _Find all 'spurious' applications, i.e.,\n",
    "applications where the student id doesn't match any\n",
    "student's id._ Try to solve this exercise in two ways (one\n",
    "using an outer join, the other using subqueries)."
   ]
  },
  {
   "cell_type": "code",
   "execution_count": null,
   "metadata": {},
   "outputs": [],
   "source": [
    "%%sql\n"
   ]
  },
  {
   "cell_type": "code",
   "execution_count": null,
   "metadata": {},
   "outputs": [],
   "source": [
    "%%sql\n"
   ]
  },
  {
   "cell_type": "markdown",
   "metadata": {},
   "source": [
    "**Exercise:** _Generate the unwieldly college application\n",
    "table we started out with above from the three smaller\n",
    "tables._"
   ]
  },
  {
   "cell_type": "code",
   "execution_count": null,
   "metadata": {},
   "outputs": [],
   "source": [
    "%%sql\n"
   ]
  },
  {
   "cell_type": "markdown",
   "metadata": {},
   "source": [
    "## Back to the olympics:\n",
    "\n",
    "Last time we had a few queries using our old `olympics`\n",
    "table, let's revisit one of them using `better_olympics` and\n",
    "`continents` instead. First we rename our `olympics` and\n",
    "`better_olympics` tables, to make things easier:"
   ]
  },
  {
   "cell_type": "code",
   "execution_count": null,
   "metadata": {},
   "outputs": [],
   "source": [
    "%%sql\n",
    "ALTER TABLE olympics\n",
    "RENAME TO   bad_olympics;\n",
    "\n",
    "ALTER TABLE better_olympics\n",
    "RENAME TO   olympics;"
   ]
  },
  {
   "cell_type": "markdown",
   "metadata": {},
   "source": [
    "**Q:** _How many olympic games has each continent hosted?_"
   ]
  },
  {
   "cell_type": "code",
   "execution_count": null,
   "metadata": {},
   "outputs": [],
   "source": [
    "%%sql\n"
   ]
  },
  {
   "cell_type": "markdown",
   "metadata": {},
   "source": [
    "**Q:** _When was the first and the latest olympic games in\n",
    "each continent?_"
   ]
  },
  {
   "cell_type": "code",
   "execution_count": null,
   "metadata": {},
   "outputs": [],
   "source": [
    "%%sql\n"
   ]
  },
  {
   "cell_type": "markdown",
   "metadata": {},
   "source": [
    "**Q:** _Recreate the original `olympics` table from the\n",
    "improved `olympics` and `continents`._"
   ]
  },
  {
   "cell_type": "code",
   "execution_count": null,
   "metadata": {},
   "outputs": [],
   "source": [
    "%%sql\n"
   ]
  },
  {
   "cell_type": "markdown",
   "metadata": {},
   "source": [
    "## Instead of lists\n",
    "\n",
    "One of the 'rules' of relational databases is that the\n",
    "values in our tables must be primitive, we're not allowed to\n",
    "have lists or objects as values. This requirement is called\n",
    "the [\"First normal\n",
    "form\"](https://en.wikipedia.org/wiki/First_normal_form), or\n",
    "\"1NF\" -- we'll return to 'normal forms' during lectures 7\n",
    "and 8.\n",
    "\n",
    "If we were to write a program to keep track of the phone\n",
    "numbers of our friends, we could write something like this\n",
    "in Java:"
   ]
  },
  {
   "cell_type": "markdown",
   "metadata": {},
   "source": [
    "~~~java\n",
    "class Friend {\n",
    "\n",
    "    private String name;\n",
    "    private List<PhoneNumber> phoneNumbers;\n",
    "    \n",
    "    ...\n",
    "}\n",
    "\n",
    "List<Friend> friends = ...\n",
    "~~~\n"
   ]
  },
  {
   "cell_type": "markdown",
   "metadata": {},
   "source": [
    "A literal translation of this into a table would be\n",
    "something like:"
   ]
  },
  {
   "cell_type": "markdown",
   "metadata": {},
   "source": [
    "~~~\n",
    "name      phone_numbers\n",
    "----      -------------\n",
    "Adam      [123456, 654321]\n",
    "Bodil     [196811]\n",
    "~~~\n"
   ]
  },
  {
   "cell_type": "markdown",
   "metadata": {},
   "source": [
    "but this is in violation of the 'First normal form', so\n",
    "instead have a new row for each phone number:"
   ]
  },
  {
   "cell_type": "markdown",
   "metadata": {},
   "source": [
    "~~~\n",
    "name      phone\n",
    "----      -----\n",
    "Adam      123456\n",
    "Adam      654321\n",
    "Bodil     196811\n",
    "~~~\n"
   ]
  },
  {
   "cell_type": "markdown",
   "metadata": {},
   "source": [
    "We can ask for Adam's number with:"
   ]
  },
  {
   "cell_type": "markdown",
   "metadata": {},
   "source": [
    "~~~sql\n",
    "SELECT phone\n",
    "FROM   friends\n",
    "WHERE  name = 'Adam'\n",
    "~~~\n"
   ]
  },
  {
   "cell_type": "markdown",
   "metadata": {},
   "source": [
    "and we'd get both numbers back:"
   ]
  },
  {
   "cell_type": "markdown",
   "metadata": {},
   "source": [
    "~~~\n",
    "phone\n",
    "-----\n",
    "123456\n",
    "654321\n",
    "~~~\n"
   ]
  },
  {
   "cell_type": "markdown",
   "metadata": {},
   "source": [
    "Now, assume we also want to save the birthdays of our\n",
    "friends. We could add a column for birthdays like this:"
   ]
  },
  {
   "cell_type": "markdown",
   "metadata": {},
   "source": [
    "~~~\n",
    "name    birthday    phone\n",
    "----    --------    -----\n",
    "Adam    2 dec       123456\n",
    "Adam    2 dec       654321\n",
    "Bodil   30 nov      196811\n",
    "~~~\n"
   ]
  },
  {
   "cell_type": "markdown",
   "metadata": {},
   "source": [
    "What's the problem with this?\n",
    "\n",
    "And what if we also want to save our friends' email\n",
    "addresses:"
   ]
  },
  {
   "cell_type": "markdown",
   "metadata": {},
   "source": [
    "~~~\n",
    "name        birthday    phone       email\n",
    "----        --------    -----       -----\n",
    "Adam        2 dec       123456      adam@gmail.com\n",
    "Adam        2 dec       123456      adam@yahoo.com\n",
    "Adam        2 dec       654321      adam@gmail.com\n",
    "Adam        2 dec       654321      adam@yahoo.com\n",
    "Bodil       30 nov      196811      bodil@itu.dk\n",
    "Bodil       30 nov      196811      bodil@lu.se\n",
    "Cecilia     9 apr       511235      cecilia@dn.se\n",
    "Cecilia     9 apr       641587      cecilia@dn.se\n",
    "David       12 jun      984531      david@gmail.co\n",
    "David       12 jun      984531      david@hotmail\n",
    "Emma        11 aug      123456      emma@lu.se\n",
    "~~~\n"
   ]
  },
  {
   "cell_type": "markdown",
   "metadata": {},
   "source": [
    "It may seem silly to have four rows for Adam, but if we\n",
    "removed one of them, we would loose vital information. If we\n",
    "removed the first row, and someone asked who had the phone\n",
    "number 123456 and the email address adam@gmail.com, the\n",
    "query:"
   ]
  },
  {
   "cell_type": "markdown",
   "metadata": {},
   "source": [
    "~~~sql\n",
    "SELECT  name, birthday\n",
    "FROM    friends\n",
    "WHERE   phone = '123456' AND email = 'adam@gmail.com'\n",
    "~~~\n"
   ]
  },
  {
   "cell_type": "markdown",
   "metadata": {},
   "source": [
    "would give an empty result.\n",
    "\n",
    "The problem with the table above is that we have a lot of\n",
    "redundance, i.e., information is repeated in many places.\n",
    "This is not only a waste of storage space, it also makes it\n",
    "much, much harder to work with our table -- insertions,\n",
    "updates and removals affects many rows, and if we're not\n",
    "careful, we might leave the table in a corrupted state.\n",
    "\n",
    "**Exercise:** _The data in the table above would be much\n",
    "easier to maintain if we split it into several tables --\n",
    "suggest how to do that._\n",
    "\n",
    "\n",
    "## Views\n",
    "\n",
    "If we often use some query as part of other queries, we can\n",
    "save it using a _view_:"
   ]
  },
  {
   "cell_type": "code",
   "execution_count": null,
   "metadata": {},
   "outputs": [],
   "source": [
    "%%sql\n",
    "CREATE VIEW application_info AS\n",
    "  SELECT s_id, s_name AS name, major, c_name AS college, state\n",
    "  FROM   applications\n",
    "  JOIN   students\n",
    "  USING  (s_id)\n",
    "  JOIN   colleges\n",
    "  USING  (c_name);\n",
    "\n",
    "SELECT DISTINCT name, state\n",
    "FROM   application_info\n",
    "WHERE  s_id IN (123, 234, 456);"
   ]
  },
  {
   "cell_type": "markdown",
   "metadata": {},
   "source": [
    "**Exercise:** _Show the year and category for everyone who\n",
    "has won more than one Nobel Prize -- use a view to do it._\n",
    "\n",
    "<!---\n",
    "CREATE VIEW multiple_awards AS\n",
    "  SELECT name\n",
    "  FROM   nobel\n",
    "  GROUP BY laureate\n",
    "  HAVING COUNT() > 1;\n",
    "\n",
    "SELECT year, category, name\n",
    "FROM   multiple_awards\n",
    "JOIN   nobel\n",
    "USING  (name)\n",
    "ORDER BY year;\n",
    "-->\n",
    "\n",
    "We first create a view with the names of laureates with\n",
    "multiple awards:"
   ]
  },
  {
   "cell_type": "code",
   "execution_count": null,
   "metadata": {},
   "outputs": [],
   "source": [
    "%%sql\n"
   ]
  },
  {
   "cell_type": "markdown",
   "metadata": {},
   "source": [
    "and then use it to collect information about each of the\n",
    "awards:"
   ]
  },
  {
   "cell_type": "code",
   "execution_count": null,
   "metadata": {},
   "outputs": [],
   "source": [
    "%%sql\n"
   ]
  },
  {
   "cell_type": "markdown",
   "metadata": {},
   "source": [
    "A view will be around until someone explicitly drops it:"
   ]
  },
  {
   "cell_type": "code",
   "execution_count": null,
   "metadata": {},
   "outputs": [],
   "source": [
    "%%sql\n",
    "DROP VIEW IF EXISTS multiple_awards;"
   ]
  },
  {
   "cell_type": "markdown",
   "metadata": {},
   "source": [
    "## The `WITH`-statement\n",
    "\n",
    "As an alternative to views, we have _Common Table\n",
    "Expressions_ (or _CTE_'s) -- they are a kind of named view\n",
    "which is only used in a single query:"
   ]
  },
  {
   "cell_type": "code",
   "execution_count": null,
   "metadata": {},
   "outputs": [],
   "source": [
    "%%sql\n",
    "WITH multiple_awards AS\n",
    "  (SELECT name\n",
    "   FROM   nobel\n",
    "   GROUP BY name\n",
    "   HAVING COUNT() > 1)\n",
    "SELECT year, category, name\n",
    "FROM   multiple_awards\n",
    "JOIN   nobel\n",
    "USING  (name)\n",
    "ORDER BY year;"
   ]
  },
  {
   "cell_type": "markdown",
   "metadata": {},
   "source": [
    "Unlike views, tables created with `WITH` will 'disappear' as\n",
    "soon as our query is finished, one point of the `WITH`\n",
    "statement is that it's part of one single query (whereas the\n",
    "creation of a view is a statement itself) -- this will\n",
    "become useful when we make calls to our database from other\n",
    "programs (in lecture 7 and 8).\n",
    "\n",
    "\n",
    "We can't have another `WHERE` after the `HAVING` clause:"
   ]
  },
  {
   "cell_type": "code",
   "execution_count": null,
   "metadata": {},
   "outputs": [],
   "source": [
    "%%sql\n",
    "SELECT    category, count() AS cnt\n",
    "FROM      nobel\n",
    "WHERE     year = 2013\n",
    "GROUP BY  category\n",
    "HAVING    count() < 3\n",
    "WHERE     cnt > 1        -- not allowed!"
   ]
  },
  {
   "cell_type": "markdown",
   "metadata": {},
   "source": [
    "but we can make our 'grouping query' into a subquery, and\n",
    "have another `WHERE` in the outer query"
   ]
  },
  {
   "cell_type": "code",
   "execution_count": null,
   "metadata": {},
   "outputs": [],
   "source": [
    "%%sql\n",
    "SELECT category, cnt\n",
    "FROM (\n",
    "    SELECT    category, count() AS cnt\n",
    "    FROM      nobel\n",
    "    WHERE     year = 2013\n",
    "    GROUP BY  category\n",
    "    HAVING    count() < 3)\n",
    "WHERE cnt > 1"
   ]
  },
  {
   "cell_type": "markdown",
   "metadata": {},
   "source": [
    "A somewhat tidier way of expressing this is to use a\n",
    "`WITH`-statement -- we can write either:"
   ]
  },
  {
   "cell_type": "code",
   "execution_count": null,
   "metadata": {},
   "outputs": [],
   "source": [
    "%%sql\n",
    "WITH category_count AS (\n",
    "    SELECT    category, count() AS cnt\n",
    "    FROM      nobel\n",
    "    WHERE     year = 2013\n",
    "    GROUP BY  category\n",
    "    HAVING    count() < 3\n",
    ")\n",
    "SELECT category, cnt\n",
    "FROM   category_count\n",
    "WHERE  cnt > 1"
   ]
  },
  {
   "cell_type": "markdown",
   "metadata": {},
   "source": [
    "or"
   ]
  },
  {
   "cell_type": "code",
   "execution_count": null,
   "metadata": {},
   "outputs": [],
   "source": [
    "%%sql\n",
    "WITH category_count(category, cnt) AS (\n",
    "    SELECT    category, count()\n",
    "    FROM      nobel\n",
    "    WHERE     year = 2013\n",
    "    GROUP BY  category\n",
    "    HAVING    count() < 3\n",
    ")\n",
    "SELECT category, cnt\n",
    "FROM   category_count\n",
    "WHERE  cnt > 1"
   ]
  }
 ],
 "metadata": {
  "kernelspec": {
   "display_name": "Python 3",
   "language": "python",
   "name": "python3"
  },
  "language_info": {
   "codemirror_mode": {
    "name": "ipython",
    "version": 3
   },
   "file_extension": ".py",
   "mimetype": "text/x-python",
   "name": "python",
   "nbconvert_exporter": "python",
   "pygments_lexer": "ipython3",
   "version": "3.7.4"
  }
 },
 "nbformat": 4,
 "nbformat_minor": 2
}
