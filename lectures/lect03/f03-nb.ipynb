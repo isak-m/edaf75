{
 "cells": [
  {
   "cell_type": "markdown",
   "metadata": {},
   "source": [
    "<!-- -*- mode: markdown; coding: utf-8; fill-column: 60; ispell-dictionary: \"english\" -*- -->\n",
    "\n",
    "<meta charset=\"utf-8\"/>\n",
    "<meta name=\"viewport\" content=\"width=device-width,initial-scale=1\"/>\n",
    "<link rel=\"stylesheet\" href=\"../style.css\">\n",
    "\n",
    "\n",
    "# Some more SQL, and Database modeling"
   ]
  },
  {
   "cell_type": "code",
   "execution_count": null,
   "metadata": {},
   "outputs": [],
   "source": [
    "%load_ext sql"
   ]
  },
  {
   "cell_type": "code",
   "execution_count": null,
   "metadata": {},
   "outputs": [],
   "source": [
    "%sql sqlite:///lect03.sqlite"
   ]
  },
  {
   "cell_type": "markdown",
   "metadata": {},
   "source": [
    "## Views\n",
    "\n",
    "If we use some query as part of other queries, we can save\n",
    "it using a _view_. Assume we want to make several queries\n",
    "for information about applications in our college\n",
    "application database -- we split up our big table with all\n",
    "data into three separate tables, but we can easily create a\n",
    "view of all relevant data using a view:"
   ]
  },
  {
   "cell_type": "code",
   "execution_count": null,
   "metadata": {},
   "outputs": [],
   "source": [
    "%%sql\n",
    "CREATE VIEW application_info(s_id, name, major, college, state) AS\n",
    "  SELECT s_id, s_name, major, c_name, state\n",
    "  ..."
   ]
  },
  {
   "cell_type": "markdown",
   "metadata": {},
   "source": [
    "or (an alternative way of naming the columns in our view):"
   ]
  },
  {
   "cell_type": "code",
   "execution_count": null,
   "metadata": {},
   "outputs": [],
   "source": [
    "%%sql\n",
    "CREATE VIEW application_info AS\n",
    "  SELECT s_id, s_name AS name, major, c_name AS college, state\n",
    "  ..."
   ]
  },
  {
   "cell_type": "markdown",
   "metadata": {},
   "source": [
    "We can now use this view to simplify our queries -- to find\n",
    "in what states lies the colleges a given student has applied\n",
    "to, we can write:"
   ]
  },
  {
   "cell_type": "code",
   "execution_count": null,
   "metadata": {},
   "outputs": [],
   "source": [
    "%%sql\n",
    "SELECT DISTINCT s_id, name, state\n",
    "FROM   application_info\n",
    "WHERE  s_id IN (123, 234, 456);"
   ]
  },
  {
   "cell_type": "markdown",
   "metadata": {},
   "source": [
    "**Exercise:** _Show the year and category for everyone who\n",
    "has won more than one Nobel Prize -- use a view to do it._\n",
    "\n",
    "We first create a view with the names of laureates with\n",
    "multiple awards:"
   ]
  },
  {
   "cell_type": "code",
   "execution_count": null,
   "metadata": {},
   "outputs": [],
   "source": [
    "%%sql\n"
   ]
  },
  {
   "cell_type": "markdown",
   "metadata": {},
   "source": [
    "and then use it to collect information about each of the\n",
    "awards:"
   ]
  },
  {
   "cell_type": "code",
   "execution_count": null,
   "metadata": {},
   "outputs": [],
   "source": [
    "%%sql\n"
   ]
  },
  {
   "cell_type": "markdown",
   "metadata": {},
   "source": [
    "A view will be around until someone explicitly drops it:"
   ]
  },
  {
   "cell_type": "code",
   "execution_count": null,
   "metadata": {},
   "outputs": [],
   "source": [
    "%%sql\n",
    "DROP VIEW IF EXISTS multiple_awards;"
   ]
  },
  {
   "cell_type": "markdown",
   "metadata": {},
   "source": [
    "Last time we solved the following problem in a dubious way:\n",
    "\n",
    "**Exercise:** Show the average `size_hs` for applications to\n",
    "the different colleges, order by descending size.\n",
    "\n",
    "Our first solution was:"
   ]
  },
  {
   "cell_type": "code",
   "execution_count": null,
   "metadata": {},
   "outputs": [],
   "source": [
    "%%sql\n",
    "SELECT   c_name, avg(size_hs)\n",
    "FROM     applications\n",
    "JOIN     students\n",
    "USING    (s_id)\n",
    "GROUP BY c_name"
   ]
  },
  {
   "cell_type": "markdown",
   "metadata": {},
   "source": [
    "but, as someone pointed out, this way we count students who\n",
    "applies for several majors at a given college several times\n",
    "(so, we get an oddly weighted average). The problem here is\n",
    "that the `applications` table may contain duplicate entries\n",
    "for each pair of student/college -- create a view which\n",
    "alleviates this problem, and then calculate the 'correct'\n",
    "(unweighted) averages."
   ]
  },
  {
   "cell_type": "code",
   "execution_count": null,
   "metadata": {},
   "outputs": [],
   "source": [
    "%%sql\n"
   ]
  },
  {
   "cell_type": "markdown",
   "metadata": {},
   "source": [
    "Also, try to solve the problem with a subquery instead of a\n",
    "view (where you select from the result of a subquery)."
   ]
  },
  {
   "cell_type": "code",
   "execution_count": null,
   "metadata": {},
   "outputs": [],
   "source": [
    "%%sql\n"
   ]
  },
  {
   "cell_type": "markdown",
   "metadata": {},
   "source": [
    "## The `WITH`-statement\n",
    "\n",
    "As an alternative to views, we have _Common Table\n",
    "Expressions_ (or _CTE_'s) -- they are a kind of named view\n",
    "which is only used in a single query:"
   ]
  },
  {
   "cell_type": "code",
   "execution_count": null,
   "metadata": {},
   "outputs": [],
   "source": [
    "%%sql\n",
    "WITH \n",
    "  multiple_awards(name) AS (\n",
    "    SELECT name\n",
    "    FROM   nobel\n",
    "    GROUP BY name\n",
    "    HAVING COUNT() > 1\n",
    ")\n",
    "SELECT year, category, name\n",
    "FROM   multiple_awards\n",
    "JOIN   nobel\n",
    "USING  (name)\n",
    "ORDER BY year;"
   ]
  },
  {
   "cell_type": "markdown",
   "metadata": {},
   "source": [
    "Unlike views, tables created with `WITH` will 'disappear' as\n",
    "soon as our query is finished, one point of the `WITH`\n",
    "statement is that it's part of one single query (whereas the\n",
    "creation of a view is a statement itself) -- this will\n",
    "become useful when we make calls to our database from other\n",
    "programs (in lecture 7 and 8).\n",
    "\n",
    "\n",
    "**Exercise:** (from last time) _Who has shared the chemistry\n",
    "prize with exactly one other laureate in years when the\n",
    "summer olympics were held in Europe?_ Solve the problem\n",
    "using several CTEs."
   ]
  },
  {
   "cell_type": "code",
   "execution_count": null,
   "metadata": {},
   "outputs": [],
   "source": [
    "%%sql\n"
   ]
  },
  {
   "cell_type": "markdown",
   "metadata": {},
   "source": [
    "**Example:** As we've seen, we can't have another `WHERE`\n",
    "after the `HAVING` clause in a `GROUP BY` clause (of course\n",
    "we could have added the second test to the `HAVING` clause\n",
    "in this case, but that's not the point here):"
   ]
  },
  {
   "cell_type": "code",
   "execution_count": null,
   "metadata": {},
   "outputs": [],
   "source": [
    "%%sql\n",
    "SELECT    category, count() AS cnt\n",
    "FROM      nobel\n",
    "WHERE     year = 2013\n",
    "GROUP BY  category\n",
    "HAVING    count() < 3\n",
    "WHERE     cnt > 1        -- not allowed!"
   ]
  },
  {
   "cell_type": "markdown",
   "metadata": {},
   "source": [
    "but we can make our 'grouping query' into a subquery, and\n",
    "have another `WHERE` in the outer query"
   ]
  },
  {
   "cell_type": "code",
   "execution_count": null,
   "metadata": {},
   "outputs": [],
   "source": [
    "%%sql\n",
    "SELECT category, cnt\n",
    "FROM (\n",
    "    SELECT    category, count() AS cnt\n",
    "    FROM      nobel\n",
    "    WHERE     year = 2013\n",
    "    GROUP BY  category\n",
    "    HAVING    count() < 3\n",
    ")\n",
    "WHERE cnt > 1"
   ]
  },
  {
   "cell_type": "markdown",
   "metadata": {},
   "source": [
    "A tidier way of expressing this is to use a `WITH`-statement\n",
    "-- we can write:"
   ]
  },
  {
   "cell_type": "code",
   "execution_count": null,
   "metadata": {},
   "outputs": [],
   "source": [
    "%%sql\n",
    "WITH category_count(category, cnt) AS (\n",
    "    SELECT    category, count()\n",
    "    FROM      nobel\n",
    "    WHERE     year = 2013\n",
    "    GROUP BY  category\n",
    "    HAVING    count() < 3\n",
    ")\n",
    "SELECT category, cnt\n",
    "FROM   category_count\n",
    "WHERE  cnt > 1"
   ]
  },
  {
   "cell_type": "markdown",
   "metadata": {},
   "source": [
    "## Where are the functions and parameters?\n",
    "\n",
    "All decent general purpose programming languages have a way\n",
    "to define functions with parameters, e.g., we can write\n",
    "something like:"
   ]
  },
  {
   "cell_type": "code",
   "execution_count": null,
   "metadata": {},
   "outputs": [],
   "source": [
    "def find_students_with_major(major):\n",
    "    return [s for s in students if s.major() == major]"
   ]
  },
  {
   "cell_type": "markdown",
   "metadata": {},
   "source": [
    "But SQL isn't a general purpose language, it's a Domain\n",
    "Specific Language (DSL), and while there is somthing akin to\n",
    "this in some DBMS's (_stored procedures_, we'll return to\n",
    "them briefly later in the course), we normally use SQL from\n",
    "other languages, and then embed our queries in a way which\n",
    "lets us replace parts of our queries with values from the\n",
    "embedding program:"
   ]
  },
  {
   "cell_type": "markdown",
   "metadata": {},
   "source": [
    "~~~{.python}\n",
    "def handle_students_with_major(major):\n",
    "    ...\n",
    "    c.execute(\n",
    "        \"\"\"\n",
    "        SELECT s_id, s_name, c_name\n",
    "        FROM   applications\n",
    "        JOIN   students\n",
    "        USING  (s_id)\n",
    "        WHERE  major = ?\n",
    "        \"\"\",\n",
    "        (major,)\n",
    "    )\n",
    "    for student_id, name, college in c:\n",
    "        ... use student_id, name, and college ...\n",
    "~~~\n"
   ]
  },
  {
   "cell_type": "markdown",
   "metadata": {},
   "source": [
    "or, with Java:"
   ]
  },
  {
   "cell_type": "markdown",
   "metadata": {},
   "source": [
    "~~~{.java}\n",
    "void handleStudentsWithMajor(String major) {\n",
    "    String query =\n",
    "        \"SELECT s_id, s_name, c_name\\n\" +\n",
    "        \"FROM   applications\\n\" +\n",
    "        \"JOIN   students\\n\" +\n",
    "        \"USING  (s_id)\\n\" +\n",
    "        \"WHERE  major = ?\";\n",
    "    try (var ps = conn.prepareStatement(query)) {\n",
    "        ps.setString(1, major);\n",
    "        var rs = ps.executeQuery();\n",
    "        while (rs.next()) {\n",
    "            var studentId = rs.getInt(\"s_id\");\n",
    "            var name = rs.getString(\"s_name\");\n",
    "            var college = rs.getString(\"c_name\");\n",
    "            ... use studentId, name, and college ...\n",
    "        }\n",
    "    } catch (SQLException e) {\n",
    "        e.printStackTrace();\n",
    "    }\n",
    "~~~\n"
   ]
  },
  {
   "cell_type": "markdown",
   "metadata": {},
   "source": [
    "During lecture 5 we'll talk _much_ more about this. \n",
    "\n",
    "As the code above suggests, Java is much more verbose than\n",
    "Python, and things gets progressively worse when we add the\n",
    "scaffolding to write a REST-service (as we will do in lab 3\n",
    "and the project) -- this is why I recommend that you pick up\n",
    "some Python so that you don't have to use Java in lab 3 and\n",
    "the project (but, of course, it's perfectly fine to stay\n",
    "with Java if you don't want to learn Python for this\n",
    "course)."
   ]
  }
 ],
 "metadata": {
  "kernelspec": {
   "display_name": "Python 3",
   "language": "python",
   "name": "python3"
  },
  "language_info": {
   "codemirror_mode": {
    "name": "ipython",
    "version": 3
   },
   "file_extension": ".py",
   "mimetype": "text/x-python",
   "name": "python",
   "nbconvert_exporter": "python",
   "pygments_lexer": "ipython3",
   "version": "3.7.4"
  }
 },
 "nbformat": 4,
 "nbformat_minor": 2
}
